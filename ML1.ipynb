{
  "nbformat": 4,
  "nbformat_minor": 0,
  "metadata": {
    "colab": {
      "provenance": [],
      "gpuType": "T4",
      "authorship_tag": "ABX9TyNYK3kceEOgGl23BTarM5av",
      "include_colab_link": true
    },
    "kernelspec": {
      "name": "python3",
      "display_name": "Python 3"
    },
    "language_info": {
      "name": "python"
    },
    "accelerator": "GPU"
  },
  "cells": [
    {
      "cell_type": "markdown",
      "metadata": {
        "id": "view-in-github",
        "colab_type": "text"
      },
      "source": [
        "<a href=\"https://colab.research.google.com/github/Mevan-V/Spider_Inductions/blob/main/ML1.ipynb\" target=\"_parent\"><img src=\"https://colab.research.google.com/assets/colab-badge.svg\" alt=\"Open In Colab\"/></a>"
      ]
    },
    {
      "cell_type": "code",
      "source": [
        "import kagglehub\n",
        "\n",
        "# Download latest version\n",
        "path = kagglehub.dataset_download(\"mohamedmaher5/vehicle-classification\")"
      ],
      "metadata": {
        "colab": {
          "base_uri": "https://localhost:8080/"
        },
        "id": "BReDbg03hAMX",
        "outputId": "1b46964d-b500-43a1-b440-8b7cc2473f0f"
      },
      "execution_count": 1,
      "outputs": [
        {
          "output_type": "stream",
          "name": "stdout",
          "text": [
            "Downloading from https://www.kaggle.com/api/v1/datasets/download/mohamedmaher5/vehicle-classification?dataset_version_number=1...\n"
          ]
        },
        {
          "output_type": "stream",
          "name": "stderr",
          "text": [
            "100%|██████████| 827M/827M [00:39<00:00, 21.7MB/s]"
          ]
        },
        {
          "output_type": "stream",
          "name": "stdout",
          "text": [
            "Extracting files...\n"
          ]
        },
        {
          "output_type": "stream",
          "name": "stderr",
          "text": [
            "\n"
          ]
        }
      ]
    },
    {
      "cell_type": "code",
      "execution_count": 2,
      "metadata": {
        "id": "C1u3uHhEQglh"
      },
      "outputs": [],
      "source": [
        "import torch\n",
        "import torch.nn as nn\n",
        "import torch.nn.functional as F\n",
        "from torch.utils.data import random_split, DataLoader\n",
        "from torchvision import transforms, datasets, models\n",
        "import numpy as np\n",
        "import matplotlib.pyplot as plt\n",
        "import math\n",
        "import time\n",
        "import os\n",
        "\n",
        "def convert_time(s):\n",
        "    h = s // 3600\n",
        "    s = s %  3600\n",
        "    m = s // 60\n",
        "    s = s % 60\n",
        "    return int(h), int(m), s\n",
        "\n",
        "# Checkpoint Saving and Retrieving function\n",
        "\n",
        "def save_checkpoint(model, optimizer, best_acc):\n",
        "    checkpoint_dict = {\n",
        "        'model_state_dict': model.state_dict(),\n",
        "        'optimizer_state_dict': optimizer.state_dict(),\n",
        "        'best_acc': best_acc\n",
        "    }\n",
        "    torch.save(checkpoint_dict, 'checkpoint.pth')\n",
        "\n",
        "def retrieve_checkpoint(num_classes, device, phase = 'train'):\n",
        "    if phase in ['train', 'eval']:\n",
        "        checkpoint_dict = torch.load('checkpoint.pth', map_location = device)\n",
        "\n",
        "        global model, optimizer, criterion, best_acc\n",
        "\n",
        "        model = models.resnet18(weights = 'ResNet18_Weights.DEFAULT')\n",
        "        model.fc = nn.Linear(model.fc.in_features, num_classes)\n",
        "        model.load_state_dict(checkpoint_dict['model_state_dict'])\n",
        "        model.to(device)\n",
        "\n",
        "        optimizer = torch.optim.SGD(model.parameters(), lr = 0, momentum = 0)\n",
        "        optimizer.load_state_dict(checkpoint_dict['optimizer_state_dict'])\n",
        "\n",
        "        criterion = nn.CrossEntropyLoss()\n",
        "\n",
        "        best_acc = checkpoint_dict['best_acc']\n",
        "\n",
        "        if phase == 'train':\n",
        "            model.train()\n",
        "        elif phase == 'eval':\n",
        "            model.eval()\n",
        "    else:\n",
        "        print(f\"warning! Expected the 'phase' argument; got wrong argument!\")\n",
        "        raise Exception"
      ]
    },
    {
      "cell_type": "code",
      "source": [
        "# Device Configuration\n",
        "\n",
        "device = torch.device('cuda' if torch.cuda.is_available() else 'cpu')\n",
        "\n",
        "# Hyper Parameters\n",
        "\n",
        "learning_rate = 0.001\n",
        "num_epochs = 10\n",
        "batch_size = 8\n",
        "num_workers = 2\n",
        "train_data_percentage = 0.73\n",
        "valid_data_percentage = 0.12\n",
        "momentum = 0.5"
      ],
      "metadata": {
        "id": "hJk2ZgomQu5r"
      },
      "execution_count": 3,
      "outputs": []
    },
    {
      "cell_type": "code",
      "source": [
        "# Data Preparation\n",
        "\n",
        "mean = (0.5, 0.5, 0.5)\n",
        "std = (0.5, 0.5, 0.5)\n",
        "\n",
        "transform = transforms.Compose([\n",
        "    transforms.Resize(256),\n",
        "    transforms.CenterCrop(224),\n",
        "    transforms.ToTensor(),\n",
        "    transforms.Normalize(mean, std)\n",
        "    ])\n",
        "\n",
        "data_dir = os.path.join(path, 'Vehicles')\n",
        "image_datasets = datasets.ImageFolder(data_dir, transform)\n",
        "\n",
        "# Dividing the Data\n",
        "\n",
        "dataset_size = len(image_datasets)\n",
        "train_size = math.ceil(train_data_percentage * dataset_size)\n",
        "valid_size = math.ceil(valid_data_percentage * dataset_size)\n",
        "test_size = dataset_size - (train_size + valid_size)\n",
        "print(f\"train size = {train_size}\\nvalid size = {valid_size}\\ntest size = {test_size}\")\n",
        "\n",
        "train_data, valid_data, test_data = random_split(image_datasets, [train_size, valid_size, test_size])\n",
        "\n",
        "train_loader = DataLoader(train_data, batch_size = batch_size, shuffle = True, num_workers = num_workers)\n",
        "valid_loader = DataLoader(valid_data, batch_size = batch_size, shuffle = False, num_workers = num_workers)\n",
        "test_loader = DataLoader(test_data, batch_size = batch_size, shuffle = False, num_workers = num_workers)\n",
        "print(f\"train loader = {len(train_loader)} batches\\nvalid loader = {len(valid_loader)} batches\\ntest loader = {len(test_loader)} batches\")\n",
        "\n",
        "classes = image_datasets.classes\n",
        "num_classes = len(classes)\n",
        "print(f\"Classes = {classes}\")"
      ],
      "metadata": {
        "id": "lcDkJk6EbV8w",
        "colab": {
          "base_uri": "https://localhost:8080/"
        },
        "outputId": "ff622908-72b6-4b4f-b02e-74fbdcac98f4"
      },
      "execution_count": 4,
      "outputs": [
        {
          "output_type": "stream",
          "name": "stdout",
          "text": [
            "train size = 4080\n",
            "valid size = 671\n",
            "test size = 838\n",
            "train loader = 510 batches\n",
            "valid loader = 84 batches\n",
            "test loader = 105 batches\n",
            "Classes = ['Auto Rickshaws', 'Bikes', 'Cars', 'Motorcycles', 'Planes', 'Ships', 'Trains']\n"
          ]
        }
      ]
    },
    {
      "cell_type": "code",
      "source": [
        "# Model\n",
        "\n",
        "if not os.path.exists('checkpoint.pth'):\n",
        "    model = models.resnet18(weights = 'ResNet18_Weights.DEFAULT')\n",
        "    num_ftrs = model.fc.in_features\n",
        "    model.fc = nn.Linear(num_ftrs, num_classes)\n",
        "    model.to(device)\n",
        "\n",
        "    # Loss and Optimizer\n",
        "\n",
        "    criterion = nn.CrossEntropyLoss()\n",
        "    optimizer = torch.optim.SGD(model.parameters(), lr = learning_rate, momentum = momentum)\n",
        "\n",
        "    save_checkpoint(model, optimizer, 0)"
      ],
      "metadata": {
        "colab": {
          "base_uri": "https://localhost:8080/"
        },
        "id": "RjkfQO_ShoPf",
        "outputId": "ee392c09-b184-4db6-bc08-47820b654605"
      },
      "execution_count": 5,
      "outputs": [
        {
          "output_type": "stream",
          "name": "stderr",
          "text": [
            "Downloading: \"https://download.pytorch.org/models/resnet18-f37072fd.pth\" to /root/.cache/torch/hub/checkpoints/resnet18-f37072fd.pth\n",
            "100%|██████████| 44.7M/44.7M [00:00<00:00, 123MB/s]\n"
          ]
        }
      ]
    },
    {
      "cell_type": "code",
      "source": [
        "# Training Loop\n",
        "\n",
        "if num_epochs >= 1:\n",
        "    retrieve_checkpoint(num_classes, device, 'train')\n",
        "\n",
        "num_total_steps = len(train_loader)\n",
        "since = time.time()\n",
        "\n",
        "for epoch in range(num_epochs):\n",
        "    for images, labels in train_loader:\n",
        "\n",
        "        # Device Shifting\n",
        "\n",
        "        images = images.to(device)\n",
        "        labels = labels.to(device)\n",
        "\n",
        "        # Forward Pass\n",
        "\n",
        "        outputs = model(images)\n",
        "        # _, preds = torch.max(outputs, 1)\n",
        "        loss = criterion(outputs, labels)\n",
        "\n",
        "        # Backward Pass\n",
        "\n",
        "        optimizer.zero_grad()\n",
        "        loss.backward()\n",
        "        optimizer.step()\n",
        "\n",
        "    # Validation\n",
        "\n",
        "    n_correct = 0\n",
        "\n",
        "    for images, labels in valid_loader:\n",
        "\n",
        "        # Device Shifting\n",
        "\n",
        "        images = images.to(device)\n",
        "        labels = labels.to(device)\n",
        "\n",
        "        # Forward Pass\n",
        "\n",
        "        outputs = model(images)\n",
        "        _, preds = torch.max(outputs, 1)\n",
        "\n",
        "        n_correct += (preds == labels).sum().item()\n",
        "\n",
        "        # Accuracy\n",
        "\n",
        "        acc = 100 * n_correct / valid_size\n",
        "\n",
        "        if acc > best_acc:\n",
        "            best_acc = acc\n",
        "            save_checkpoint(model, optimizer, best_acc)\n",
        "\n",
        "    print(f\"epoch = {epoch + 1}/{num_epochs}, loss = {loss.item():.4f}\")\n",
        "hrs, mins, secs = convert_time(time.time() - since)\n",
        "print(f\"Training Complete! Time elapsed = {hrs} h {mins} m {int(secs)} s\")"
      ],
      "metadata": {
        "colab": {
          "base_uri": "https://localhost:8080/"
        },
        "id": "ZOFt0A9hhyi2",
        "outputId": "ffbb7e45-8561-4335-c329-f678d42b151e"
      },
      "execution_count": 6,
      "outputs": [
        {
          "output_type": "stream",
          "name": "stderr",
          "text": [
            "/usr/local/lib/python3.11/dist-packages/PIL/Image.py:1043: UserWarning: Palette images with Transparency expressed in bytes should be converted to RGBA images\n",
            "  warnings.warn(\n"
          ]
        },
        {
          "output_type": "stream",
          "name": "stdout",
          "text": [
            "epoch = 1/10, loss = 0.1196\n"
          ]
        },
        {
          "output_type": "stream",
          "name": "stderr",
          "text": [
            "/usr/local/lib/python3.11/dist-packages/PIL/Image.py:1043: UserWarning: Palette images with Transparency expressed in bytes should be converted to RGBA images\n",
            "  warnings.warn(\n"
          ]
        },
        {
          "output_type": "stream",
          "name": "stdout",
          "text": [
            "epoch = 2/10, loss = 0.0440\n"
          ]
        },
        {
          "output_type": "stream",
          "name": "stderr",
          "text": [
            "/usr/local/lib/python3.11/dist-packages/PIL/Image.py:1043: UserWarning: Palette images with Transparency expressed in bytes should be converted to RGBA images\n",
            "  warnings.warn(\n"
          ]
        },
        {
          "output_type": "stream",
          "name": "stdout",
          "text": [
            "epoch = 3/10, loss = 0.2828\n"
          ]
        },
        {
          "output_type": "stream",
          "name": "stderr",
          "text": [
            "/usr/local/lib/python3.11/dist-packages/PIL/Image.py:1043: UserWarning: Palette images with Transparency expressed in bytes should be converted to RGBA images\n",
            "  warnings.warn(\n"
          ]
        },
        {
          "output_type": "stream",
          "name": "stdout",
          "text": [
            "epoch = 4/10, loss = 0.0039\n"
          ]
        },
        {
          "output_type": "stream",
          "name": "stderr",
          "text": [
            "/usr/local/lib/python3.11/dist-packages/PIL/Image.py:1043: UserWarning: Palette images with Transparency expressed in bytes should be converted to RGBA images\n",
            "  warnings.warn(\n"
          ]
        },
        {
          "output_type": "stream",
          "name": "stdout",
          "text": [
            "epoch = 5/10, loss = 0.1037\n"
          ]
        },
        {
          "output_type": "stream",
          "name": "stderr",
          "text": [
            "/usr/local/lib/python3.11/dist-packages/PIL/Image.py:1043: UserWarning: Palette images with Transparency expressed in bytes should be converted to RGBA images\n",
            "  warnings.warn(\n"
          ]
        },
        {
          "output_type": "stream",
          "name": "stdout",
          "text": [
            "epoch = 6/10, loss = 0.0706\n"
          ]
        },
        {
          "output_type": "stream",
          "name": "stderr",
          "text": [
            "/usr/local/lib/python3.11/dist-packages/PIL/Image.py:1043: UserWarning: Palette images with Transparency expressed in bytes should be converted to RGBA images\n",
            "  warnings.warn(\n"
          ]
        },
        {
          "output_type": "stream",
          "name": "stdout",
          "text": [
            "epoch = 7/10, loss = 0.0585\n"
          ]
        },
        {
          "output_type": "stream",
          "name": "stderr",
          "text": [
            "/usr/local/lib/python3.11/dist-packages/PIL/Image.py:1043: UserWarning: Palette images with Transparency expressed in bytes should be converted to RGBA images\n",
            "  warnings.warn(\n"
          ]
        },
        {
          "output_type": "stream",
          "name": "stdout",
          "text": [
            "epoch = 8/10, loss = 0.0060\n"
          ]
        },
        {
          "output_type": "stream",
          "name": "stderr",
          "text": [
            "/usr/local/lib/python3.11/dist-packages/PIL/Image.py:1043: UserWarning: Palette images with Transparency expressed in bytes should be converted to RGBA images\n",
            "  warnings.warn(\n"
          ]
        },
        {
          "output_type": "stream",
          "name": "stdout",
          "text": [
            "epoch = 9/10, loss = 0.1427\n"
          ]
        },
        {
          "output_type": "stream",
          "name": "stderr",
          "text": [
            "/usr/local/lib/python3.11/dist-packages/PIL/Image.py:1043: UserWarning: Palette images with Transparency expressed in bytes should be converted to RGBA images\n",
            "  warnings.warn(\n"
          ]
        },
        {
          "output_type": "stream",
          "name": "stdout",
          "text": [
            "epoch = 10/10, loss = 0.0070\n",
            "Training Complete! Time elapsed = 0 h 10 m 40 s\n"
          ]
        }
      ]
    },
    {
      "cell_type": "code",
      "source": [
        "# Testing\n",
        "\n",
        "retrieve_checkpoint(num_classes, device, 'eval')\n",
        "\n",
        "with torch.no_grad():\n",
        "    n_correct = 0\n",
        "    n_samples = 0\n",
        "    n_class_correct = [0 for i in range(num_classes)]\n",
        "    n_class_samples = [0 for i in range(num_classes)]\n",
        "    for images, labels in test_loader:\n",
        "\n",
        "        images = images.to(device)\n",
        "        labels = labels.to(device)\n",
        "\n",
        "        outputs = model(images)\n",
        "        _, preds = torch.max(outputs, 1)\n",
        "\n",
        "        num_images = len(images)\n",
        "        n_correct += (preds == labels).sum().item()\n",
        "        n_samples += num_images\n",
        "\n",
        "        for i in range(num_images):\n",
        "            pred = preds[i]\n",
        "            label = labels[i]\n",
        "            if (pred == label):\n",
        "                n_class_correct[label] += 1\n",
        "            n_class_samples[label] += 1\n",
        "\n",
        "    print(f\"Class correct = {n_class_correct}\\nClass samples = {n_class_samples}\\n\")\n",
        "    print(f\"Best Validation Accuracy = {best_acc:.2f}%\")\n",
        "    acc = 100 * n_correct / n_samples\n",
        "    print(f\"Accuracy of test set = {acc:.2f}%\\n\")\n",
        "\n",
        "    for i in range(num_classes):\n",
        "        acc = 100 * n_class_correct[i] / n_class_samples[i]\n",
        "        print(f\"Accuracy of {classes[i]} = {acc:.2f}%\")"
      ],
      "metadata": {
        "colab": {
          "base_uri": "https://localhost:8080/"
        },
        "id": "qWTcMIOQiAcy",
        "outputId": "bb7ed311-c476-414b-ab9a-7c456502aa48"
      },
      "execution_count": 7,
      "outputs": [
        {
          "output_type": "stream",
          "name": "stderr",
          "text": [
            "/usr/local/lib/python3.11/dist-packages/PIL/Image.py:1043: UserWarning: Palette images with Transparency expressed in bytes should be converted to RGBA images\n",
            "  warnings.warn(\n"
          ]
        },
        {
          "output_type": "stream",
          "name": "stdout",
          "text": [
            "Class correct = [103, 136, 129, 125, 107, 106, 123]\n",
            "Class samples = [105, 136, 132, 127, 108, 106, 124]\n",
            "\n",
            "Best Validation Accuracy = 97.02%\n",
            "Accuracy of test set = 98.93%\n",
            "\n",
            "Accuracy of Auto Rickshaws = 98.10%\n",
            "Accuracy of Bikes = 100.00%\n",
            "Accuracy of Cars = 97.73%\n",
            "Accuracy of Motorcycles = 98.43%\n",
            "Accuracy of Planes = 99.07%\n",
            "Accuracy of Ships = 100.00%\n",
            "Accuracy of Trains = 99.19%\n"
          ]
        }
      ]
    },
    {
      "cell_type": "code",
      "source": [
        "# Final Instruction\n",
        "\n",
        "## Get an image from every class, run the prediction and the display the results using matplotlib\n",
        "\n",
        "retrieve_checkpoint(num_classes, device, 'eval')\n",
        "\n",
        "with torch.no_grad():\n",
        "    n_correct = 0\n",
        "    n_samples = 0\n",
        "    n_class_correct = [0 for i in range(num_classes)]\n",
        "    n_class_samples = [0 for i in range(num_classes)]\n",
        "    n_class_loss = [0 for i in range(num_classes)]\n",
        "    n_class_softmax = [0 for i in range(num_classes)]\n",
        "    for images, labels in test_loader:\n",
        "\n",
        "        images = images.to(device)\n",
        "        labels = labels.to(device)\n",
        "\n",
        "        outputs = model(images)\n",
        "        _, preds = torch.max(outputs, 1)\n",
        "        softmax = F.softmax(outputs, dim = 1)\n",
        "\n",
        "        num_images = len(images)\n",
        "\n",
        "        for i in range(num_images):\n",
        "            pred = preds[i]\n",
        "            label = labels[i]\n",
        "            loss = criterion(outputs[i].unsqueeze(0), label.unsqueeze(0))\n",
        "            if n_class_samples[label] == 0:     # Only allows the first image of every class\n",
        "                if (pred == label):             # of the test data loader to be predicted\n",
        "                    n_class_correct[label] += 1\n",
        "                n_class_samples[label] += 1\n",
        "                n_class_loss[label] = loss.item()\n",
        "                n_class_softmax[label] = softmax[i].tolist()\n",
        "    print(\"----- Classes are corresponding to indices -----\\n\")\n",
        "    print(f\"Predicted Labels = {n_class_correct}\\n\")\n",
        "    print(\"The predicted softmax values for each class:\")\n",
        "    n_class_softmax = np.array(n_class_softmax)\n",
        "    n_class_softmax = np.round(n_class_softmax, 8)\n",
        "    n_class_softmax = n_class_softmax.tolist()\n",
        "    for i in range(num_classes):\n",
        "        print(f\"\\t{classes[i]} = {n_class_softmax[i]}\")"
      ],
      "metadata": {
        "colab": {
          "base_uri": "https://localhost:8080/"
        },
        "id": "cXj6ZrSdiQ46",
        "outputId": "18d5e140-7321-43ca-c2cc-95665478ba56"
      },
      "execution_count": 8,
      "outputs": [
        {
          "output_type": "stream",
          "name": "stderr",
          "text": [
            "/usr/local/lib/python3.11/dist-packages/PIL/Image.py:1043: UserWarning: Palette images with Transparency expressed in bytes should be converted to RGBA images\n",
            "  warnings.warn(\n"
          ]
        },
        {
          "output_type": "stream",
          "name": "stdout",
          "text": [
            "----- Classes are corresponding to indices -----\n",
            "\n",
            "Predicted Labels = [1, 1, 1, 1, 1, 1, 1]\n",
            "\n",
            "The predicted softmax values for each class:\n",
            "\tAuto Rickshaws = [0.99982822, 7.37e-06, 0.00013714, 7.02e-06, 2.19e-06, 5.16e-06, 1.298e-05]\n",
            "\tBikes = [2.08e-06, 0.99995542, 1.45e-06, 2.57e-06, 2.153e-05, 8.15e-06, 8.78e-06]\n",
            "\tCars = [2.32e-06, 5.79e-06, 0.99990118, 6.318e-05, 7.06e-06, 5.7e-06, 1.483e-05]\n",
            "\tMotorcycles = [7.641e-05, 0.00015991, 9.33e-06, 0.99970275, 2.67e-05, 4.2e-06, 2.072e-05]\n",
            "\tPlanes = [5.459e-05, 3.027e-05, 8.19e-06, 7.055e-05, 0.9989323, 0.00059288, 0.00031137]\n",
            "\tShips = [1.773e-05, 9.9e-06, 2.987e-05, 1.211e-05, 0.00050996, 0.99939489, 2.546e-05]\n",
            "\tTrains = [0.00090078, 0.00018896, 6.742e-05, 3.282e-05, 4.679e-05, 0.00071511, 0.99804807]\n"
          ]
        }
      ]
    },
    {
      "cell_type": "code",
      "source": [
        "# Plot\n",
        "x = [i for i in range(num_classes)]\n",
        "y = n_class_loss\n",
        "x_labels = classes\n",
        "\n",
        "plt.rcParams.update({\n",
        "    'axes.labelsize': 20,\n",
        "    'axes.titlesize': 24\n",
        "})\n",
        "\n",
        "plt.figure(figsize =(8, 4))\n",
        "plt.title('Results')\n",
        "for i in range(num_classes):\n",
        "    if n_class_correct[i]:\n",
        "        plt.scatter(x[i], y[i], marker = 'D', color = 'green')\n",
        "    else:\n",
        "        plt.scatter(x[i], y[i], marker = 'D', color = 'green')\n",
        "    plt.annotate(str(round(y[i], 6)), (x[i], y[i]), textcoords = 'offset points', xytext = (0, 10), ha = 'center')\n",
        "plt.scatter(100, 100, marker = 'D', color = 'green', label = 'correct prediction')\n",
        "plt.scatter(100, 100, marker = 'D', color = 'red', label = 'wrong prediction')\n",
        "plt.xlim(0-0.5, 6+0.5)\n",
        "plt.ylim(0, 0.011)\n",
        "plt.xticks(ticks = x, labels = x_labels)\n",
        "plt.yticks(np.arange(0, 0.011 + 0.001, 0.001))\n",
        "plt.ylabel('Loss')\n",
        "plt.xlabel('Classes')\n",
        "plt.grid()\n",
        "plt.legend()\n",
        "plt.show()"
      ],
      "metadata": {
        "colab": {
          "base_uri": "https://localhost:8080/",
          "height": 436
        },
        "id": "qxo9PR0qiVUh",
        "outputId": "f4b6ed73-2888-4a46-beea-25f6d83e3e62"
      },
      "execution_count": 9,
      "outputs": [
        {
          "output_type": "display_data",
          "data": {
            "text/plain": [
              "<Figure size 800x400 with 1 Axes>"
            ],
            "image/png": "[encoded data removed]"
          },
          "metadata": {}
        }
      ]
    }
  ]
}